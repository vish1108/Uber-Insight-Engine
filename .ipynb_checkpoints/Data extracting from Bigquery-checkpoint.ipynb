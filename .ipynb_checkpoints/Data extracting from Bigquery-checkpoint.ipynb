{
 "cells": [
  {
   "cell_type": "code",
   "execution_count": null,
   "id": "248a0872",
   "metadata": {},
   "outputs": [],
   "source": [
    "import os\n",
    "import time\n",
    "from google.cloud import bigquery\n",
    "\n",
    "os.environ['GOOGLE_APPLICATION_CREDENTIALS'] = r\"C:\\Users\\vishal\\OneDrive\\Desktop\\copy1\\uber-etl-pipeline-data-engineering-project\\inspired-carver-407117-13916d5e9dba.json\"\n",
    "client = bigquery.Client()\n",
    "sql_query = \"SELECT * FROM inspired-carver-407117.uber_data_analytics.ETA_prediction;\"\n",
    "\n",
    "query_job = client.query(sql_query)\n",
    "\n",
    "while query_job.state != 'DONE':\n",
    "    query_job.reload()\n",
    "    time.sleep(3)\n",
    "\n",
    "if query_job.state == 'DONE':\n",
    "    df = query_job.to_dataframe()\n",
    "    df.to_csv('bigquery.csv')\n",
    "    df.T.to_json('bigquery.json')\n",
    "else:\n",
    "    print(query_job.result())"
   ]
  }
 ],
 "metadata": {
  "kernelspec": {
   "display_name": "Python 3 (ipykernel)",
   "language": "python",
   "name": "python3"
  },
  "language_info": {
   "codemirror_mode": {
    "name": "ipython",
    "version": 3
   },
   "file_extension": ".py",
   "mimetype": "text/x-python",
   "name": "python",
   "nbconvert_exporter": "python",
   "pygments_lexer": "ipython3",
   "version": "3.11.4"
  }
 },
 "nbformat": 4,
 "nbformat_minor": 5
}
