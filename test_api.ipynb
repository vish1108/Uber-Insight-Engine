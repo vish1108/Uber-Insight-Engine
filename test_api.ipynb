{
 "cells": [
  {
   "cell_type": "code",
   "execution_count": 2,
   "id": "901e4a44",
   "metadata": {},
   "outputs": [
    {
     "name": "stdout",
     "output_type": "stream",
     "text": [
      "Date is: 2023-12-24 17:16:01.718859\n",
      "average_speed is :7\n"
     ]
    }
   ],
   "source": [
    "import requests as rq\n",
    "from datetime import datetime\n",
    "\n",
    "BASE_URL = 'https://vishal1108.pythonanywhere.com/'\n",
    "payload = {'input' : 'NONE'}\n",
    "response = rq.get(BASE_URL, params= payload)\n",
    "\n",
    "json_values = response.json()\n",
    "\n",
    "timestamp = json_values['timestamp']\n",
    "average_speed = json_values['average_speed']\n",
    "\n",
    "print(f'Date is: {datetime.fromtimestamp(timestamp)}')\n",
    "print(f'average_speed is :{average_speed}')"
   ]
  }
 ],
 "metadata": {
  "kernelspec": {
   "display_name": "Python 3 (ipykernel)",
   "language": "python",
   "name": "python3"
  },
  "language_info": {
   "codemirror_mode": {
    "name": "ipython",
    "version": 3
   },
   "file_extension": ".py",
   "mimetype": "text/x-python",
   "name": "python",
   "nbconvert_exporter": "python",
   "pygments_lexer": "ipython3",
   "version": "3.11.4"
  }
 },
 "nbformat": 4,
 "nbformat_minor": 5
}
